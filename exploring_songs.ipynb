{
  "cells": [
    {
      "metadata": {
        "_cell_guid": "b6edc7ff-143b-425f-919d-53a5dd473dc0",
        "_uuid": "6361db3b3ec0d6e3d38c3a718fed82969216b859"
      },
      "cell_type": "markdown",
      "source": "This notebook contains mostly exploration of the songs themselves, using the train data only to get the total play count and target variables. I'll do some data exploration of the users later, in a separate notebook.\n\n(I apologize in advance for some inefficient code, repeated groupby's, etc., - I didn't really plan out the exploration beforehand, so there are some repeated pieces.)"
    },
    {
      "metadata": {
        "_cell_guid": "2dab5f34-b3e3-4d54-b5e9-1f36962f904e",
        "_uuid": "9e804ded9a689f193b45b1c55e0bf0f9f4a19770",
        "trusted": false,
        "collapsed": true
      },
      "cell_type": "code",
      "source": "import numpy as np\nimport pandas as pd\nimport seaborn as sns\nimport matplotlib.pyplot as plt\n\nfrom subprocess import check_output\nprint(check_output([\"ls\", \"../input\"]).decode(\"utf8\"))",
      "execution_count": null,
      "outputs": []
    },
    {
      "metadata": {
        "collapsed": true,
        "_cell_guid": "66f9ed7d-82e9-4b45-9f74-fffdcaedf96c",
        "_uuid": "8989473cb02903b1ceebb210ddec77e39d1b77a9",
        "trusted": false
      },
      "cell_type": "code",
      "source": "train = pd.read_csv('../input/train.csv')\nsongs = pd.read_csv('../input/songs.csv')\ntest = pd.read_csv('../input/test.csv')",
      "execution_count": null,
      "outputs": []
    },
    {
      "metadata": {
        "_cell_guid": "6ab425ba-9f62-49ef-90cf-256e88f0c1e2",
        "_uuid": "507d795161a79c58f45544b670d3e858b0db6014",
        "trusted": false,
        "collapsed": true
      },
      "cell_type": "code",
      "source": "print('Song stats: ')\nsongs_in_train_and_test = np.intersect1d(train['song_id'].unique(), test['song_id'].unique())\nprint(train['song_id'].nunique(), test['song_id'].nunique())\nprint((test['song_id'].nunique() - songs_in_train_and_test.shape[0]))\nprint((test['song_id'].nunique() - songs_in_train_and_test.shape[0]) / test['song_id'].nunique())\n\nprint('User stats: ')\nusers_in_train_and_test = np.intersect1d(train['msno'].unique(), test['msno'].unique())\nprint(train['msno'].nunique(), test['msno'].nunique())\nprint((test['msno'].nunique() - users_in_train_and_test.shape[0]))\nprint((test['msno'].nunique() - users_in_train_and_test.shape[0]) / test['msno'].nunique())\n\ntrain_merged = train.merge(songs[['song_id', 'artist_name', 'genre_ids',\n                                       'language']], on='song_id')\ntest_merged = test.merge(songs[['song_id', 'artist_name', 'genre_ids',\n                                     'language']], on='song_id')\n\nprint('Artists stats: ')\nartists_in_train_and_test = np.intersect1d(train_merged['artist_name'].unique(),\n                                           test_merged['artist_name'].unique())\nprint(train_merged['artist_name'].nunique(), test_merged['artist_name'].nunique())\nprint((test_merged['artist_name'].nunique() - artists_in_train_and_test.shape[0]))\nprint((test_merged['artist_name'].nunique()\n       - artists_in_train_and_test.shape[0]) / test_merged['artist_name'].nunique())\n\nprint('Language stats: ')\nlangs_in_train_and_test = np.intersect1d(train_merged['language'].unique(),\n                                          test_merged['language'].unique())\nprint(train_merged['language'].nunique(), test_merged['language'].nunique())\nprint((test_merged['language'].nunique() - langs_in_train_and_test.shape[0]))\nprint((test_merged['language'].nunique()\n       - langs_in_train_and_test.shape[0]) / test_merged['language'].nunique())\n\nprint('Genre stats: ')\ngenres_in_train_and_test = np.intersect1d(train_merged['genre_ids'].apply(str).unique(),\n                                          test_merged['genre_ids'].apply(str).unique())\nprint(train_merged['genre_ids'].nunique(), test_merged['genre_ids'].nunique())\nprint((test_merged['genre_ids'].nunique() - genres_in_train_and_test.shape[0]))\nprint((test_merged['genre_ids'].nunique()\n       - genres_in_train_and_test.shape[0]) / test_merged['genre_ids'].nunique())",
      "execution_count": null,
      "outputs": []
    },
    {
      "metadata": {
        "_cell_guid": "c11a1d08-f33e-43a9-9a48-7d08c5ad7c60",
        "_uuid": "1b69424586e433f32095e8f36aa4d5f40aa70add"
      },
      "cell_type": "markdown",
      "source": "We have 359966 different songs in the train set and 224753 different songs in the test set. Also, 59873 of the songs in the test set do no appear in the train set - that is 26.64 % of the test set size.\n\n30755 unique users in the train set and 25131 unique users in the test set; () of the users which are in the test set do no appear in the train set - that is 14.52 % of the test set size.\n\nThe songs in the train set have been performed by 40582 different artists, the songs in the test set have been performed by 27563 different artists; 5790 of the artists which are in the test set do not appear in the train set - 21 % of the test set's artists do not appear in the training data.\n\nThe songs are in 10 different languages, and all the languages are represented equally across the train and test sets.\n\nThe songs in the train set have 572 different genres, while the songs in the test set have 501 different genres; 35 of the genres in the test set do not appear in the train set, which makes up 7% of the test set's genres.\n\n**IMPORTANT NOTE**: a song can have multiple genres, and that currently is considered as a genre in itself, since we don't do any preprocessing of the \"genre_ids\" columns; so if song1 in the train set has genre \"1\" and song2 in the train set has genre \"2\", and song3 in the test set has genre \"1|2\" (which means it is both in genre \"1\" and \"2\"), this is currently computed as if the genre of song3 does not appear in the train set. So the real number of genres is probably much smaller, and probably the number of genres in the test set that don't appear in the train set is smaller too (I'm actually hoping it's 0). A bit later we'll do some processing of the genre data and re-compute this statistic."
    },
    {
      "metadata": {
        "_cell_guid": "15235a3d-12ff-417c-ab37-78b39b05ae03",
        "_uuid": "cba33f16be86194f2957b4e6e285dfe5ddc99ab0"
      },
      "cell_type": "markdown",
      "source": "Let's focus on analyzing the songs themselves at first. To do that, we'll still need data on how many listens and repeat listens they get."
    },
    {
      "metadata": {
        "collapsed": true,
        "_cell_guid": "d38b744e-3b0d-4497-8f9b-2c45cc67399e",
        "_uuid": "66e2312f0eb3252f9928359b3bae0e909fb12cab",
        "trusted": false
      },
      "cell_type": "code",
      "source": "listen_log = train[['msno','song_id','target']].merge(songs,on='song_id')\n\nlisten_log_groupby = listen_log[['song_id', 'target']].groupby(['song_id']).agg(['mean',\n                                                                                 'count'])\nlisten_log_groupby.reset_index(inplace=True)\nlisten_log_groupby.columns = list(map(''.join, listen_log_groupby.columns.values))\nlisten_log_groupby.columns = ['song_id', 'repeat_play_chance', 'plays']  #rename columns\n\nsong_data = listen_log_groupby.merge(songs, on='song_id') # merge song data with computed values\n\nsong_data['repeat_events'] = song_data['repeat_play_chance'] * song_data['plays']",
      "execution_count": null,
      "outputs": []
    },
    {
      "metadata": {
        "_cell_guid": "3633f1e3-1e09-48e8-a5b7-859964a7e355",
        "_uuid": "f1009411741de210f65208ec45be538365aef5cd"
      },
      "cell_type": "markdown",
      "source": "Now we can start exploring how various song features affect the chance of it being played repeatedly.\nSome basic stuff: what is the maximum number of times a song has been played?"
    },
    {
      "metadata": {
        "_cell_guid": "58c53192-938b-4b88-83e7-dc181a45fb59",
        "_uuid": "c140261d98537a608333e337bcd19af03d8e79a9",
        "trusted": false,
        "collapsed": true
      },
      "cell_type": "code",
      "source": "song_data['plays'].max()",
      "execution_count": null,
      "outputs": []
    },
    {
      "metadata": {
        "_cell_guid": "6f69301d-0adf-45de-bf19-2230ca784609",
        "_uuid": "e6de2958a7ad61a972af64ea98677f1e4a0286a3"
      },
      "cell_type": "markdown",
      "source": "How does a songs popularity (number of plays) affect the chance of it being played repeatedly?"
    },
    {
      "metadata": {
        "collapsed": true,
        "_cell_guid": "fcbb255a-8ded-47c3-8c3b-4aac0f61c6c2",
        "_uuid": "54aec50262b560b485813407d6a71f911217bd1a",
        "trusted": false
      },
      "cell_type": "code",
      "source": "# song_plays_gb = song_data[['plays', 'repeat_events']].groupby(['plays', 'repeat_events'])\n#OK, this can probably be done using groupby's, but I'm too tired to think of a proper way to do\n# this\n\nx_plays = []\ny_repeat_chance = []\n\nfor i in range(1,song_data['plays'].max()+1):\n    plays_i = song_data[song_data['plays']==i]\n    count = plays_i['plays'].sum()\n    if count > 0:\n        x_plays.append(i)\n        y_repeat_chance.append(plays_i['repeat_events'].sum() / count)",
      "execution_count": null,
      "outputs": []
    },
    {
      "metadata": {
        "_cell_guid": "0c910712-32f1-4c3e-bff6-07c6464db2cb",
        "_uuid": "39ac7c2e05f2fca545bea5d0d95aa4e24d974bd3",
        "trusted": false,
        "collapsed": true
      },
      "cell_type": "code",
      "source": "f,axarray = plt.subplots(1,1,figsize=(15,10))\nplt.xlabel('Number of song plays')\nplt.ylabel('Chance of repeat listens')\nplt.plot(x_plays, y_repeat_chance)",
      "execution_count": null,
      "outputs": []
    },
    {
      "metadata": {
        "_cell_guid": "9dff8224-c12d-4c17-a82d-03a269838678",
        "_uuid": "1739fbd012f47094bb6186b34b75863db26de422"
      },
      "cell_type": "markdown",
      "source": "So, looks like there is some correlation between these two numbers (albeit noisy, which might be due to a not very large amount of songs with a specific (large) number of plays)"
    },
    {
      "metadata": {
        "collapsed": true,
        "_cell_guid": "dbb397a3-2166-43af-aee5-5a0c0520d4de",
        "_uuid": "a4f04f6695d170f61c7e359a2bef0c49219dfa6f",
        "trusted": false
      },
      "cell_type": "code",
      "source": "def count_vals(x):\n    # count number of values (since we can have mutliple values separated by '|')\n    if type(x) != str:\n        return 1\n    else:\n        return 1 + x.count('|')",
      "execution_count": null,
      "outputs": []
    },
    {
      "metadata": {
        "_cell_guid": "eaf15229-1baf-4c1f-b524-38da6b39c77c",
        "_uuid": "7732b822d719ff1bd85856beacb9efbdb8f7200a"
      },
      "cell_type": "markdown",
      "source": "Let's find out more about the genres, composers and lyricists (or, more specifically, their numbers)"
    },
    {
      "metadata": {
        "collapsed": true,
        "_cell_guid": "8f9c2beb-5e0b-4896-aa42-44abc8f19ead",
        "_uuid": "21f1a6594966f0c602b8ae305de245347798b94e",
        "trusted": false
      },
      "cell_type": "code",
      "source": "# count number of genres, composers, lyricsts\nsong_data['number_of_genres'] = song_data['genre_ids'].apply(count_vals)\nsong_data['number_of_composers'] = song_data['composer'].apply(count_vals)\nsong_data['number_of_lyricists'] = song_data['lyricist'].apply(count_vals)",
      "execution_count": null,
      "outputs": []
    },
    {
      "metadata": {
        "_cell_guid": "145e97cb-7f72-4507-b74a-79e4e9668e68",
        "_uuid": "d163204623f81d688eee4ab78266e57e3c0ace96",
        "trusted": false,
        "collapsed": true
      },
      "cell_type": "code",
      "source": "n_genres_max = song_data['number_of_genres'].max()\nn_composers_max = song_data['number_of_composers'].max()\nn_lyricists_max = song_data['number_of_lyricists'].max()\n\nprint(n_genres_max, n_composers_max, n_lyricists_max)",
      "execution_count": null,
      "outputs": []
    },
    {
      "metadata": {
        "_cell_guid": "495d8903-b8e2-48a9-b02c-30d9dbd809f5",
        "_uuid": "4660bdd1c9ab1f2f77229956fee3f08cf07c6cae"
      },
      "cell_type": "markdown",
      "source": "Holy hell, 51 composers? 23 lyricists?\nLet's check out what kind of songs are those, and then move on and take a closer look how the songs are distributed according to these variables (# of genres/composers/lyricists). Also, we'll look how the number of genres/composers/lyricists affects the the chances of a song being played again."
    },
    {
      "metadata": {
        "_cell_guid": "5db9a541-effe-4c9a-8f16-245a5a17bfde",
        "_uuid": "7757d6e5da7810849662d32a7cfad456a3f5546b",
        "trusted": false,
        "collapsed": true
      },
      "cell_type": "code",
      "source": "max_comp_song = song_data.iloc[song_data['number_of_composers'].idxmax()]\nmax_lyr_song = song_data.iloc[song_data['number_of_lyricists'].idxmax()]\npd.set_option('display.max_colwidth', 200)\nprint(max_comp_song[['artist_name', 'composer', 'lyricist', 'number_of_composers',\n                     'number_of_lyricists']], '\\n')\nprint(max_lyr_song[['artist_name', 'composer', 'lyricist', 'number_of_composers',\n                    'number_of_lyricists']])",
      "execution_count": null,
      "outputs": []
    },
    {
      "metadata": {
        "_cell_guid": "c5d2c803-d5d8-4d2b-ab1d-2df1516340aa",
        "_uuid": "0c4715e3f28b0d67ce8aab84b4c9bff6d09138cd"
      },
      "cell_type": "markdown",
      "source": "Seems like there's some rubbish data in the \"composer\" field of the first song."
    },
    {
      "metadata": {
        "collapsed": true,
        "_cell_guid": "5e36defb-db13-48c4-a879-799c962e0e6d",
        "_uuid": "45cb0ddfa97eda48768ea2fd93f8ebb9e4590c25",
        "trusted": false
      },
      "cell_type": "code",
      "source": "x_genres = list(range(1,n_genres_max+1))\nx_composers = list(range(1,n_composers_max+1))\nx_lyricists = list(range(1,n_lyricists_max+1))\n\ny_genres = [song_data[song_data['number_of_genres'] == x].shape[0] for x in x_genres]\ny_composers = [song_data[song_data['number_of_composers'] == x].shape[0] for x in x_composers]\ny_lyricists = [song_data[song_data['number_of_lyricists'] == x].shape[0] for x in x_lyricists]\n\n\n# now, we get some zero values for the # of composers and # lyricists, lets get rid of them\nempty_ids = [i for i, y in enumerate(y_composers) if y == 0]\nx_composers_fixed = [x_composers[i] for i in range(0,n_composers_max) if i not in empty_ids]\ny_composers_fixed = [y_composers[i-1] for i in x_composers_fixed]\n\nempty_ids = [i for i, y in enumerate(y_lyricists) if y == 0]\nx_lyricists_fixed = [x_lyricists[i] for i in range(0,n_lyricists_max) if i not in empty_ids]\ny_lyricists_fixed = [y_lyricists[i-1] for i in x_lyricists_fixed]\n\ny_repeat_chance_g = []\ny_plays_g = []\n\nfor i in range(1,n_genres_max+1):\n    genres_i = song_data[song_data['number_of_genres']==i]\n    count = genres_i['plays'].sum()\n    y_repeat_chance_g.append(genres_i['repeat_events'].sum() / count)\n    y_plays_g.append(count)\n    \ny_repeat_chance_c = []\ny_plays_c = []\n\nfor i in x_composers_fixed:\n    composers_i = song_data[song_data['number_of_composers']==i]\n    count = composers_i['plays'].sum()\n    y_repeat_chance_c.append(composers_i['repeat_events'].sum() / count)\n    y_plays_c.append(count)\n    \ny_repeat_chance_l = []\ny_plays_l = []\n\nfor i in x_lyricists_fixed:\n    lyricists_i = song_data[song_data['number_of_lyricists']==i]\n    count = lyricists_i['plays'].sum()\n    y_repeat_chance_l.append(lyricists_i['repeat_events'].sum() / count)\n    y_plays_l.append(count)",
      "execution_count": null,
      "outputs": []
    },
    {
      "metadata": {
        "_cell_guid": "3201c79c-af1c-4543-aa2c-7a5c8f7b0ae2",
        "_uuid": "419d4e21ab4677730c6b03ece88b21ead8d74b16",
        "trusted": false,
        "collapsed": true
      },
      "cell_type": "code",
      "source": "fig = plt.figure(figsize=(15, 18)) \n\nax331 = plt.subplot(3,3,1)\nsns.barplot(x=x_genres,y=np.log10(y_genres))\nax331.set_ylabel('log10(# of songs)')\nax334 = plt.subplot(3,3,4)\nsns.barplot(x=x_genres,y=np.log10(y_plays_g))\nax334.set_ylabel('log10(# of plays)')\nax337 = plt.subplot(3,3,7)\nsns.barplot(x=x_genres,y=y_repeat_chance_g)\nax337.set_xlabel('# of genres')\nax337.set_ylabel('chance of repeated listen')\n\nplt.subplot(3,3,2)\nsns.barplot(x=x_composers_fixed,y=np.log10(y_composers_fixed))\nplt.subplot(3,3,5)\nsns.barplot(x=x_composers_fixed,y=np.log10(y_plays_c))\nax338 = plt.subplot(3,3,8)\nsns.barplot(x=x_composers_fixed,y=y_repeat_chance_c)\nax338.set_xlabel('# of composers')\n\n\nplt.subplot(3,3,3)\nsns.barplot(x=x_lyricists_fixed,y=np.log10(y_lyricists_fixed))\nplt.subplot(3,3,6)\nsns.barplot(x=x_lyricists_fixed,y=np.log10(y_plays_l))\nax339 = plt.subplot(3,3,9)\nsns.barplot(x=x_lyricists_fixed,y=y_repeat_chance_l)\nax339.set_xlabel('# of lyricists')",
      "execution_count": null,
      "outputs": []
    },
    {
      "metadata": {
        "_cell_guid": "d81a4ad9-40a9-43eb-a6c0-dd694c57b14f",
        "_uuid": "b6042ed52987e978bbc94cad053885f9dc6e3f97"
      },
      "cell_type": "markdown",
      "source": "So it seems there's no real effect of the number of composers and lyricists on the song's repeat listens; the number of genres seems to have an influence.\nAlso, there's more than a 1000 songs with 5 lyricists (and there's a thousand of songs with 7 composers). Also, those songs with 15+ composers seem (relatively) popular – nearly a 1000 plays for less than 10 songs (looking at the songs with 20 composers). The same for the song with 20 lyricists. (Actually, the data on composers/lyricists seems a bit noisy - there are some weirdly placed delimiters here and there; but the overall impression is that it has no influence on the chance of a repeated listen anyway).\nWhat about the song's language, how does that influence a songs plays and chance of repeated listens?"
    },
    {
      "metadata": {
        "_cell_guid": "50d0975b-6e74-4a26-a55b-31c894f9f996",
        "_uuid": "095b17b8c02a5dc30e9c1789791b9aacfffd1225",
        "trusted": false,
        "collapsed": true
      },
      "cell_type": "code",
      "source": "languages = song_data['language'].unique()\nprint(languages.shape[0])\n\nlanguage_count = []\nlanguage_plays = []\nlanguage_repeat_chance = []\n\nfor l in languages:\n    if not np.isnan(l):\n        songs_with_language = song_data[song_data['language']==l]\n        count = songs_with_language['plays'].sum()\n        language_repeat_chance.append(songs_with_language['repeat_events'].sum() / count)\n        language_count.append(songs_with_language.shape[0])\n        language_plays.append(count)\n    else:\n        songs_with_language = song_data[pd.isnull(song_data['language'])]\n        count = songs_with_language['plays'].sum()\n        language_repeat_chance.append(songs_with_language['repeat_events'].sum() / count)\n        language_count.append(songs_with_language.shape[0])\n        language_plays.append(count)\n        \nlanguages[10] = -100  # we'll replace the nan value with something different",
      "execution_count": null,
      "outputs": []
    },
    {
      "metadata": {
        "_cell_guid": "6409bc4d-f61d-4ac3-9752-22531fe2c403",
        "_uuid": "e90ec4e73ce9714d5a48cb929371018f028c2f58"
      },
      "cell_type": "markdown",
      "source": "OK, 10 different languages (since one of the values is actually NaN)."
    },
    {
      "metadata": {
        "_cell_guid": "9d5d9a28-83ef-47da-8180-d066d4fed0ac",
        "_uuid": "08d7f7d27653394321a1a192b30f9ea6b95df40a",
        "trusted": false,
        "collapsed": true
      },
      "cell_type": "code",
      "source": "fig = plt.figure(figsize=(15, 18)) \n\nax1 = plt.subplot(3,1,1)\nsns.barplot(x=languages,y=np.log10(language_count))\nax1.set_ylabel('log10(# of songs)')\nax2 = plt.subplot(3,1,2)\nsns.barplot(x=languages,y=np.log10(language_plays))\nax2.set_ylabel('log10(# of plays)')\nax3 = plt.subplot(3,1,3)\nsns.barplot(x=languages,y=language_repeat_chance)\nax3.set_ylabel('Chance of repeated listen')\nax3.set_xlabel('Song language')",
      "execution_count": null,
      "outputs": []
    },
    {
      "metadata": {
        "_cell_guid": "6d21781d-031d-4404-8c6e-61aaa3519e02",
        "_uuid": "4c63af490d9c02d2bd65ddc46f8bc3f47fbe588b"
      },
      "cell_type": "markdown",
      "source": "Seems like languages \"-1\", \"17\" and \"45\" lead to a lower chance of repeated listens (language \"38\" does that too, but there are only 100 songs in it, which in total haven't received a lot of plays too).\nLet's now take a closer look at the song length."
    },
    {
      "metadata": {
        "_cell_guid": "f8ad77fd-33c0-4751-8563-9336cde75a00",
        "_uuid": "54dbede138241a99102ddc7729e41063a1798005",
        "trusted": false,
        "collapsed": true
      },
      "cell_type": "code",
      "source": "min_song_length_sec = song_data['song_length'].min() / 1000  # the data is in msec\nmax_song_length_sec = song_data['song_length'].max() / 1000\nprint(min_song_length_sec, max_song_length_sec)",
      "execution_count": null,
      "outputs": []
    },
    {
      "metadata": {
        "_cell_guid": "dee5290b-c3f1-405f-861c-6106d7894927",
        "_uuid": "9ec13d642df4095e6bb8c860643867b0e96e02ba"
      },
      "cell_type": "markdown",
      "source": "A 1-second and a 3-hour song? Just curious what these are:"
    },
    {
      "metadata": {
        "_cell_guid": "8975b7eb-8899-4a8c-a70f-faf9fef2879f",
        "_uuid": "5e8d09cea5ac367ede6982dedd4de5f043c28e97",
        "trusted": false,
        "collapsed": true
      },
      "cell_type": "code",
      "source": "min_length_song = song_data.iloc[song_data['song_length'].idxmin()]\nmax_length_song = song_data.iloc[song_data['song_length'].idxmax()]\nprint(min_length_song[['artist_name', 'composer', 'lyricist', 'number_of_composers',\n                       'number_of_lyricists', 'song_length', 'repeat_play_chance']], '\\n')\nprint(max_length_song[['artist_name', 'composer', 'lyricist', 'number_of_composers',\n                       'number_of_lyricists', 'song_length', 'repeat_play_chance']])",
      "execution_count": null,
      "outputs": []
    },
    {
      "metadata": {
        "_cell_guid": "15432bc3-31a4-4537-a93c-a31594acc21d",
        "_uuid": "8d6356861144614f4979cb92c02ac2c23b0b3a33"
      },
      "cell_type": "markdown",
      "source": "A very quick look at Trisha Yearwood's profile on Rateyourmusic showed that she's a contemporary country/pop rock singer, so her having a 1-second song seems weird. This can't be a Napalm Death cover (at least if we trust the composer data), so probably it's just bad data? Or some weird abruptly cut-off file?\n\nAs for Jason Stephenson, a Google search tells me he writes music for deep meditation/deep sleep/relaxation/etc., so a 3-hour composition is not that surprising after all.\n\nSo, how are the songs distributed length-wise?"
    },
    {
      "metadata": {
        "_cell_guid": "993baea4-d816-4c96-9c17-92c303b7b2f6",
        "_uuid": "19979ffbc8138fc4746064fd7d472c0145e17f42",
        "trusted": false,
        "collapsed": true
      },
      "cell_type": "code",
      "source": "plt.figure(figsize=(15,8))\nlength_bins = np.logspace(np.log10(min_song_length_sec),np.log10(max_song_length_sec+1),100)\nsns.distplot(song_data['song_length']/1000, bins=length_bins, kde=False,\n             hist_kws={\"alpha\": 1})\nplt.xlabel('song length, s')\nplt.ylabel('# of songs')\nplt.yscale('log')\nplt.xscale('log')\n# song_data.hist(column='song_length', bins=100)",
      "execution_count": null,
      "outputs": []
    },
    {
      "metadata": {
        "_cell_guid": "b04a1789-92c0-479e-b12c-fbee86223904",
        "_uuid": "d284d3b018e5f1cc4235b241311ce1e1282aa4f3"
      },
      "cell_type": "markdown",
      "source": "So there's actually quite a lot of songs longer than 1000 songs = 16 minutes.\nNow, how does a song's length influence the number of plays and repeated listens it receives?"
    },
    {
      "metadata": {
        "_cell_guid": "689f4aca-faf5-473e-90fc-c674e5eb644a",
        "_uuid": "ad5889b55b44c44fa975e84d64564fd7f2ad6e4e",
        "trusted": false,
        "collapsed": true
      },
      "cell_type": "code",
      "source": "time_labels = list(range(length_bins.shape[0]-1))\nsong_data['time_cuts'] = pd.cut(song_data['song_length']/1000,\n                                bins=length_bins, labels=time_labels)\n\ny_repeat_chance_tc = []\ny_plays_tc = []\ny_rel_plays = []\nfor i in time_labels:\n    timecut_i = song_data[song_data['time_cuts']==i]\n    count = timecut_i['plays'].sum()\n    y_plays_tc.append(count)\n    if count != 0:\n        y_repeat_chance_tc.append(timecut_i['repeat_events'].sum() / count)\n        y_rel_plays.append(count / timecut_i.shape[0])\n    else:\n        y_repeat_chance_tc.append(0)\n        y_rel_plays.append(0)\n    \nfig = plt.figure(figsize=(15, 16)) \n\ny_plays_tc = [yptc + 1 for yptc in y_plays_tc]  # otherwise we'll get errors when we take the log\n\nax211 = plt.subplot(2,1,1)\nsns.barplot(x=length_bins[time_labels],y=np.log10(y_plays_tc))\nax211.set_ylabel('log10(# of plays)')\n\nax212 = plt.subplot(2,1,2)\nsns.barplot(x=length_bins[time_labels],y=y_repeat_chance_tc)\nax212.set_ylabel('Chance of repeated listen')",
      "execution_count": null,
      "outputs": []
    },
    {
      "metadata": {
        "_cell_guid": "f3fb967d-c42d-4ea9-abc8-465796e152e9",
        "_uuid": "daff8e04c4b28a71db0c5ce0a1ceb892fb783d00"
      },
      "cell_type": "markdown",
      "source": "OK, so I screwed up with plotting the histogram, but the picture is clear – shorter-than average songs get lower chances of repeated listens, while those few very long songs are always repeated (each person that has listened to that 3-hour Jason Stephenson track has listened to it again).\nThe next question – how does an artist's number of tracks and plays influence the chance of repeated listens?\nFirst, we're going to look at the distribution of number of tracks and plays an artist has.\n\nAs for the number of listens of songs in a certain length interval – since it's correlated to the number of tracks in the same interval, it's obvious that the histograms looks nearly identical to the one showcasing the number of songs vs their time. So let's just divide the number of listens of songs in a length interval by the number of tracks in the same interval."
    },
    {
      "metadata": {
        "_cell_guid": "1235449b-8875-465e-9b65-955c667eda23",
        "_uuid": "3f197a76a679bc684aa23e922459dca7af75be6e",
        "trusted": false,
        "collapsed": true
      },
      "cell_type": "code",
      "source": "fig = plt.figure(figsize=(15, 8)) \n\nax111 = plt.subplot(1,1,1)\nsns.barplot(x=length_bins[time_labels],y=y_rel_plays)\nax111.set_ylabel('# of plays / # of tracks')",
      "execution_count": null,
      "outputs": []
    },
    {
      "metadata": {
        "_cell_guid": "b034f86e-685c-43c9-8425-e45db197fa57",
        "_uuid": "a6169dae2926ee89491e37a6651c13889512a07b",
        "trusted": false,
        "collapsed": true
      },
      "cell_type": "code",
      "source": "max_tracks = song_data['artist_name'].value_counts().max()\nprint(song_data['artist_name'].value_counts()[:4])",
      "execution_count": null,
      "outputs": []
    },
    {
      "metadata": {
        "_cell_guid": "b2cced50-b0f1-42c1-af32-804edf3d6b91",
        "_uuid": "5e697b0c275ae5288f82af56773ec8edd4f39ecf",
        "trusted": false,
        "collapsed": true
      },
      "cell_type": "code",
      "source": "plt.figure(figsize=(15,8))\ntrack_bins = np.logspace(0,np.log10(max_tracks+1),200)\n# track_bins = np.linspace(1,max_tracks+1,100)\nsns.distplot(song_data['artist_name'].value_counts(), bins=track_bins, kde=False,\n             hist_kws={\"alpha\": 1})\nplt.xlabel('# of tracks')\nplt.ylabel('# of artists')\nplt.yscale('log')\nplt.xscale('log')",
      "execution_count": null,
      "outputs": []
    },
    {
      "metadata": {
        "_cell_guid": "64ec47be-518c-41b1-8037-c7c4bc9ef2e8",
        "_uuid": "9da704652e357c3616d0d1bb8d90b2ec9679dadc"
      },
      "cell_type": "markdown",
      "source": "A lot of artists with just one track (actually, with one track that has had at least one listen – since we've merged the train and song datasets)"
    },
    {
      "metadata": {
        "_cell_guid": "13dee376-8495-4311-b97a-160b90c301cf",
        "_uuid": "b44a17d59bdea154641ea9d8497f0bcbeb18d770",
        "trusted": false,
        "collapsed": true
      },
      "cell_type": "code",
      "source": "artist_groupby = song_data[['artist_name', 'plays']].groupby(['artist_name'])\nartist_plays = artist_groupby['plays'].agg(['sum'])\nartist_plays.reset_index(inplace=True)\n\nmin_plays = artist_plays['sum'].min()\nmax_plays = artist_plays['sum'].max()\nprint(min_plays, max_plays)",
      "execution_count": null,
      "outputs": []
    },
    {
      "metadata": {
        "_cell_guid": "6eb4bb41-cc78-4b76-aa60-7cceafe301e8",
        "_uuid": "f70cacf8e79ba19e1a613d3e5b6dc5f5b046eb98",
        "trusted": false,
        "collapsed": true
      },
      "cell_type": "code",
      "source": "plt.figure(figsize=(15,8))\nplay_bins = np.logspace(np.log10(min_plays),np.log10(max_plays+1),100)\n# track_bins = np.linspace(1,max_tracks+1,100)\nsns.distplot(artist_plays['sum'], bins=play_bins, kde=False,\n             hist_kws={\"alpha\": 1})\nplt.xlabel('# of plays')\nplt.ylabel('# of artists')\nplt.yscale('log')\nplt.xscale('log')",
      "execution_count": null,
      "outputs": []
    },
    {
      "metadata": {
        "_cell_guid": "cf8fb9f3-2709-431f-8d6e-a84629d47cca",
        "_uuid": "01a3ccf07194681aaabb41bd1ff5874cdc3efd71"
      },
      "cell_type": "markdown",
      "source": "So a lot of artists with just a couple of plays (the number of plays and number of tracks is an artist has is probably quite correlated).\nHow does these variables correlate with the chance of repeated listens (as in - how does the number of songs an artist have affect the chance of his songs being played repeatedly; and how does the number of plays an artist has received affect the chance of his songs being played repeatedly)."
    },
    {
      "metadata": {
        "collapsed": true,
        "_cell_guid": "42bb1d83-b4ae-44dd-99f0-b5189c2728ef",
        "_uuid": "0a92d83a26bd80c46b3a630e21d74609c9460f15",
        "trusted": false
      },
      "cell_type": "code",
      "source": "artist_replgroupby = song_data[['artist_name', 'plays', 'repeat_events']].groupby(['artist_name'])\nartist_replgroupby = artist_replgroupby['plays', 'repeat_events'].agg(['sum', 'count'])\nartist_replgroupby.reset_index(inplace=True)\nartist_replgroupby.columns = list(map(''.join, artist_replgroupby.columns.values))\nartist_replgroupby.drop(['repeat_eventscount'], axis=1, inplace=True)\nartist_replgroupby.columns = ['artist', 'plays', 'tracks', 'repeat_events']\nartist_replgroupby['repeat_play_chance'] = artist_replgroupby['repeat_events'] / artist_replgroupby['plays']",
      "execution_count": null,
      "outputs": []
    },
    {
      "metadata": {
        "_cell_guid": "d1af645f-db18-45ed-996c-1b471701b3d8",
        "_uuid": "8b45f0490f1cd0a053350afb33f2d473fc3e6e1b",
        "trusted": false,
        "collapsed": true
      },
      "cell_type": "code",
      "source": "plt.figure(figsize=(15,8))\nchance_bins = np.linspace(0,1,100)\nsns.distplot(artist_replgroupby['repeat_play_chance'], bins=chance_bins, kde=False,\n             hist_kws={\"alpha\": 1})\nplt.xlabel('Chance of repeated listens')\nplt.ylabel('# of artists')\nplt.yscale('log')\n# plt.xscale('log')",
      "execution_count": null,
      "outputs": []
    },
    {
      "metadata": {
        "_cell_guid": "b2198948-f126-46a2-9290-73ded9a5834c",
        "_uuid": "5c680231a77ab7db6e5089904cf84168b9c08212"
      },
      "cell_type": "markdown",
      "source": "Wow, a majority of artists don't have any repeated listens at all! And a lot of artists have a 100% chance of repeated listens."
    },
    {
      "metadata": {
        "_cell_guid": "e331f9f8-2b7b-4f09-9d2c-dbe3bfe3a876",
        "_uuid": "6c1a1df0eeb72d11900aa610304a514179f249ad",
        "trusted": false,
        "collapsed": true
      },
      "cell_type": "code",
      "source": "artist_replgroupby['plays'].max()",
      "execution_count": null,
      "outputs": []
    },
    {
      "metadata": {
        "_cell_guid": "696fa908-b31d-4fdf-81e6-9c3f062271b9",
        "_uuid": "470976399290ee444c66cc627bc5e74c7d8d872b",
        "trusted": false,
        "collapsed": true
      },
      "cell_type": "code",
      "source": "play_bins = np.logspace(-0.01, np.log10(artist_replgroupby['plays'].max()), 100)\nplay_labels = list(range(play_bins.shape[0]-1))\nartist_replgroupby['play_cuts'] = pd.cut(artist_replgroupby['plays'],\n                                         bins=play_bins, labels=play_labels)\n\ny_repeat_chance_p = []\ny_plays_p = []\nfor i in play_labels:\n    playcut_i = artist_replgroupby[artist_replgroupby['play_cuts']==i]\n    count = artist_replgroupby['plays'].sum()\n    y_plays_p.append(count)\n    if count != 0:\n        y_repeat_chance_p.append(playcut_i['repeat_events'].sum() / count)\n    else:\n        y_repeat_chance_p.append(0)\n    \nfig = plt.figure(figsize=(15, 16)) \n\nax111 = plt.subplot(1,1,1)\nsns.barplot(x=play_bins[play_labels],y=y_repeat_chance_p)\nax111.set_xlabel('log10(# of plays)')\nax111.set_ylabel('Chance of repeated listen')",
      "execution_count": null,
      "outputs": []
    },
    {
      "metadata": {
        "_cell_guid": "d437ccdd-4985-407e-8de4-00c259f76d11",
        "_uuid": "893c7c6d661cb052580689a449e1f343fed18944"
      },
      "cell_type": "markdown",
      "source": "So it looks like artists with a lower number of plays also have a lower chance of repeated listens, whereas when the number of plays increases, the data behaves more erratically."
    },
    {
      "metadata": {
        "_cell_guid": "d49caa45-fc24-4f74-b339-6dcddc5713c3",
        "_uuid": "efa0f7b18506b24020ed1ced0580e04013a638f9",
        "trusted": false,
        "collapsed": true
      },
      "cell_type": "code",
      "source": "track_bins = np.logspace(-0.01, np.log10(artist_replgroupby['tracks'].max()), 50)\ntrack_labels = list(range(track_bins.shape[0]-1))\nartist_replgroupby['track_cuts'] = pd.cut(artist_replgroupby['tracks'],\n                                          bins=track_bins, labels=track_labels)\n\ny_repeat_chance_t = []\ny_tracks_t = []\nfor i in track_labels:\n    trackcut_i = artist_replgroupby[artist_replgroupby['track_cuts']==i]\n    count = artist_replgroupby['tracks'].sum()\n    y_tracks_t.append(count)\n    if count != 0:\n        y_repeat_chance_t.append(trackcut_i['repeat_events'].sum() / count)\n    else:\n        y_repeat_chance_t.append(0)\n    \nfig = plt.figure(figsize=(15, 16)) \n\nax111 = plt.subplot(1,1,1)\nsns.barplot(x=track_bins[track_labels],y=y_repeat_chance_t)\nax111.set_xlabel('log10(# of tracks)')\nax111.set_ylabel('Chance of repeated listen')",
      "execution_count": null,
      "outputs": []
    },
    {
      "metadata": {
        "_cell_guid": "d65ad66d-b0df-41df-ab64-9fd5f415502d",
        "_uuid": "e36e83e10b6e5366b00c32d0383edc6ce26bb282"
      },
      "cell_type": "markdown",
      "source": "So seems like there's a lot of variance – some artists with a low number of tracks have a high replay chance, other's dont. And there's \"Various Artists\", of course, which have the largest number of tracks but cannot be representative, of course. But in general, a very low number of tracks leads to a lower replay chance.\n\nSo, what about the number of languages an artists writes songs in, does that affect anything?"
    },
    {
      "metadata": {
        "collapsed": true,
        "_cell_guid": "3b24e051-d9c2-4bf3-b8ae-146d85e0b776",
        "_uuid": "af1a46f83f5f1e03582462bf4314ea39f501c3bf",
        "trusted": false
      },
      "cell_type": "code",
      "source": "artist_langgroupby = song_data[['artist_name',  'language']].groupby(['artist_name'])\nartist_langgroupby = artist_langgroupby.agg({\"language\": pd.Series.nunique})\nartist_langgroupby.reset_index(inplace=True)\nartist_langgroupby.columns = list(map(''.join, artist_langgroupby.columns.values))\nartist_langgroupby.columns = ['artist', 'language']\n\nartist_repl_lang = artist_replgroupby.merge(artist_langgroupby, on='artist')",
      "execution_count": null,
      "outputs": []
    },
    {
      "metadata": {
        "_cell_guid": "e6ee3d36-a752-4e26-8b1e-ff5ca8ede56a",
        "_uuid": "3a81c5d53124aa4f6b266f71dd0e313cd4b0d82f",
        "trusted": false,
        "collapsed": true
      },
      "cell_type": "code",
      "source": "plt.figure(figsize=(15,8))\nchance_bins = np.linspace(1,artist_repl_lang['language'].max()+1,11)\nsns.distplot(artist_repl_lang['language'], bins=chance_bins, kde=False,\n             hist_kws={\"alpha\": 1})\nplt.xlabel('# of languages an artist signs in')\nplt.ylabel('# of artists')\nplt.yscale('log')",
      "execution_count": null,
      "outputs": []
    },
    {
      "metadata": {
        "_cell_guid": "4e423efb-8fe0-44c5-ac63-12a283a480b7",
        "_uuid": "f337be9562592eee68efb17443b0ab419cb5ec04",
        "trusted": false,
        "collapsed": true
      },
      "cell_type": "code",
      "source": "y_repeat_chance_l = []\ny_plays_l = []\ny_tracks_l = []\n\nmax_l = int(artist_repl_lang['language'].max())\nl_list = []\n\nfor i in range(1,max_l+1):\n    arlang = artist_repl_lang[artist_repl_lang['language']==i]\n    count = arlang['plays'].sum()\n    if count != 0:\n        y_tracks_l.append(arlang['tracks'].sum())\n        y_plays_l.append(count)\n        l_list.append(i)\n        y_repeat_chance_l.append(arlang['repeat_events'].sum() / count)\n    \nfig = plt.figure(figsize=(15, 24)) \n\nax311 = plt.subplot(3,1,1)\nsns.barplot(x=l_list,y=np.log10(y_tracks_l))\nax311.set_xlabel('# of languages')\nax311.set_ylabel('log10(# of tracks)')\n\nax312 = plt.subplot(3,1,2)\nsns.barplot(x=l_list,y=np.log10(y_plays_l))\nax312.set_xlabel('# of languages')\nax312.set_ylabel('log10(# of plays)')\n\nax313 = plt.subplot(3,1,3)\nsns.barplot(x=l_list,y=y_repeat_chance_l)\nax313.set_xlabel('# of languages')\nax313.set_ylabel('Chance of repeated listen')",
      "execution_count": null,
      "outputs": []
    },
    {
      "metadata": {
        "_cell_guid": "1d74fe90-1313-41fd-9800-58fc5c9d4d17",
        "_uuid": "6d7468074a30bc71dbc070f173badbef7b49f06c"
      },
      "cell_type": "markdown",
      "source": "So there's more than a 1000 artists that sing in 2 languages, and more than 100 that sing in 3 languages.\n\nBut what's more interesting, is that there's not a lot of artists who sing in 4+ languages, but they do get a lot of plays. Also, those few artists who sing in 5 languages exactly, they do seem to have a lower replay chance.\n\nSide thought: perhaps it can be a good idea in the future to split \"Various Artists\" in 10 separate artists based on the language of the songs (or maybe do the same based on the number of genres. Or perhaps split them based on composer/lyricist. Probably all these approaches are worth trying, given that Various Artists account for a lot of the tracks).\n\nFinally, let's look at the genres. First of all, we have to split the genre data for songs with multiple genres. Since the maximum number of genres a song has is 8, we can just add 8 new columns ('genre_1', 'genre_2', etc.) and fill them with the genres (songs with less than 8 genres will have NaN values, obviously)."
    },
    {
      "metadata": {
        "collapsed": true,
        "_cell_guid": "e854a9c2-bd74-4cf8-aec5-9b0eb102511a",
        "_uuid": "c021c451c1e751fbd0b47b009abd4a2a3f57e539",
        "trusted": false
      },
      "cell_type": "code",
      "source": " def split_genres(x, n):\n    # n is the number of the genre\n    if type(x) != str:\n        if n == 1:\n            if not np.isnan(x):\n                return int(x)\n            else:\n                return x\n    else:\n        if x.count('|') >= n-1:\n            return int(x.split('|')[n-1])",
      "execution_count": null,
      "outputs": []
    },
    {
      "metadata": {
        "collapsed": true,
        "_cell_guid": "6af3c931-c299-4399-bde6-0356e5923ca6",
        "_uuid": "c2cf57bff01e0d7966a8c7228556a64017d3d154",
        "trusted": false
      },
      "cell_type": "code",
      "source": "max_genres = song_data['number_of_genres'].max()\n\nfor i in range(1,max_genres+1):\n    sp_g = lambda x: split_genres(x, i)\n    song_data['genre_'+str(i)] = song_data['genre_ids'].apply(sp_g)\n    \nn_genres = set()\n\nfor i in range(1,max_genres+1):\n    n_genres.update(song_data['genre_'+str(i)][song_data['genre_'+str(i)].notnull()].unique().tolist())",
      "execution_count": null,
      "outputs": []
    },
    {
      "metadata": {
        "_cell_guid": "6455b6d0-9dbd-4d5b-88b0-7060ec64e385",
        "_uuid": "3a42ec357b9cf27029481078330fc6006e1d7729",
        "trusted": false,
        "collapsed": true
      },
      "cell_type": "code",
      "source": "len(n_genres), song_data['genre_ids'].isnull().sum()",
      "execution_count": null,
      "outputs": []
    },
    {
      "metadata": {
        "_cell_guid": "444ea6c9-9aa6-484e-a21f-5d6ed85c207e",
        "_uuid": "7ffec1d129b4c62f85feb6a601067162ef85cc22"
      },
      "cell_type": "markdown",
      "source": "So there's actually just 166 different genres (plus 7233 songs don't have genre information; so there's 166 genres+a \"NaN genre\").\n\nLet's see how the songs are distributed according to genre (the plot will probably be a bit messy, but hopefully, informative enough). Also, like before, we'll look at the # of plays divided by the # of tracks (since the two variable are correlated)."
    },
    {
      "metadata": {
        "collapsed": true,
        "_cell_guid": "bff01418-9abf-431d-a5cc-b1e54c741ea2",
        "_uuid": "8599bbcad19825db35b1aca8bc5b416450532f6f",
        "trusted": false
      },
      "cell_type": "code",
      "source": "genres_plays = [0] * (len(n_genres) + 1)\ngenres_tracks = [0] * (len(n_genres) + 1)\ngenres_replays = [0] * (len(n_genres) + 1)\n\nfor i in range(1,max_genres+1):\n    notnull_data = song_data[song_data['genre_'+str(i)].notnull()]\n    for j, k in enumerate(n_genres):\n        jk_sdata = notnull_data[notnull_data['genre_'+str(i)] == k]\n        genres_plays[j] += jk_sdata['plays'].sum()\n        genres_tracks[j] += jk_sdata['plays'].shape[0]\n        genres_replays[j] += jk_sdata['repeat_events'].sum()\n\nnull_genre_data = song_data[song_data['genre_1'].isnull()]\ngenres_plays[len(n_genres)] = null_genre_data['plays'].sum()\ngenres_tracks[len(n_genres)] = null_genre_data['plays'].shape[0]\ngenres_replays[len(n_genres)] = null_genre_data['repeat_events'].sum()\n\ngenres_rel_plays = [x/y for x, y in zip(genres_plays, genres_tracks)]\ngenres_repl_chance = [x/y for x, y in zip(genres_replays, genres_plays)]",
      "execution_count": null,
      "outputs": []
    },
    {
      "metadata": {
        "_cell_guid": "e1a018bf-ec1a-490a-aad9-305437b6111a",
        "_uuid": "abfd5a58df6295aefb6e6d6f0b524d675ed01b8b",
        "trusted": false,
        "collapsed": true
      },
      "cell_type": "code",
      "source": "n_g_l = [x for x in n_genres]\nn_g_l.append(-1)\n\nfig = plt.figure(figsize=(15, 27)) \n\nax411 = plt.subplot(3,1,1)\nsns.barplot(x=n_g_l,y=np.log10(genres_tracks))\nax411.set_ylabel('log10(# of tracks)')\n\n\nax413 = plt.subplot(3,1,2)\nsns.barplot(x=n_g_l,y=genres_rel_plays)\nax413.set_ylabel('# of plays/ # of tracks')\n\nax414 = plt.subplot(3,1,3)\nsns.barplot(x=n_g_l,y=genres_repl_chance)\nax414.set_ylabel('Chance of repeat listen')",
      "execution_count": null,
      "outputs": []
    },
    {
      "metadata": {
        "_cell_guid": "4d747d7b-bfae-4565-937f-8e3c3617be30",
        "_uuid": "afe344271a7ab71eecd91e044f9c637a59fe4db8",
        "trusted": false,
        "collapsed": true
      },
      "cell_type": "code",
      "source": "fig = plt.figure(figsize=(15, 24))\n\nax412 = plt.subplot(2,1,1)\nsns.barplot(x=n_g_l,y=np.log10(genres_plays))\nax412.set_ylabel('log10(# of plays)')",
      "execution_count": null,
      "outputs": []
    },
    {
      "metadata": {
        "_cell_guid": "c3f82f6d-f290-4688-ba16-cac0aa3ba6b1",
        "_uuid": "5f9a20e7943effeb44d43b76ade96264088e72b8"
      },
      "cell_type": "markdown",
      "source": "Finally, let's check whether there are any genres in the test set that aren't in the train set."
    },
    {
      "metadata": {
        "_cell_guid": "f63645be-41a3-4d66-a45d-388a96680291",
        "_uuid": "b89ad82badac7716c833341520bcebaeaa6161a5",
        "trusted": false,
        "collapsed": true
      },
      "cell_type": "code",
      "source": "test_merged['number_of_genres'] = test_merged['genre_ids'].apply(count_vals)\nnumber_of_genres_test = test_merged['number_of_genres'].max()\nprint(number_of_genres_test)\n\n\nfor i in range(1,number_of_genres_test+1):\n    sp_g = lambda x: split_genres(x, i)\n    test_merged['genre_'+str(i)] = test_merged['genre_ids'].apply(sp_g)\n    \nn_genres_test = set()\n\nfor i in range(1,max_genres+1):\n    n_genres_test.update(test_merged['genre_'+str(i)][test_merged['genre_'+str(i)].notnull()].unique().tolist())\nprint(len(n_genres_test))",
      "execution_count": null,
      "outputs": []
    },
    {
      "metadata": {
        "_cell_guid": "a15bde51-d572-4c66-a7b5-5e20c791b85c",
        "_uuid": "007a818167979d0f67454c24e2a68687839f9073",
        "trusted": false,
        "collapsed": true
      },
      "cell_type": "code",
      "source": "c = 0\nin_test_not_in_train = []\nfor g in n_genres_test:\n    if g not in n_genres:\n        c += 1\n        in_test_not_in_train.append(g)\nprint(c, in_test_not_in_train)",
      "execution_count": null,
      "outputs": []
    },
    {
      "metadata": {
        "_cell_guid": "3a916c55-f0e9-469e-af36-cf3f2e1930f8",
        "_uuid": "96544500232803c3b43dc07a5479589f576cac58"
      },
      "cell_type": "markdown",
      "source": "162 actual genres in the test set. 6 of these genres do no appear in the train set, so let's see how much of the songs in the test set actually have these genres."
    },
    {
      "metadata": {
        "_cell_guid": "1ff6de00-6c7d-498f-ae48-9c67df69b78e",
        "_uuid": "e2bd7944d7e3eae64a706ddcf17428510c112b85",
        "trusted": false,
        "collapsed": true
      },
      "cell_type": "code",
      "source": "song_genres_test = []\nsong_genres_artist = []\nfor g in in_test_not_in_train:\n    tmp = 0\n    for i in range(1,number_of_genres_test+1):\n        tmp_filtered = test_merged[test_merged['genre_'+str(i)]==g]\n        tmp += tmp_filtered.shape[0]\n        for stt_artist in tmp_filtered['artist_name']:\n            song_genres_artist.append(stt_artist)\n    song_genres_test.append(tmp)\nprint(song_genres_test, sum(song_genres_test))\nprint(set(song_genres_artist))",
      "execution_count": null,
      "outputs": []
    },
    {
      "metadata": {
        "_cell_guid": "5c2ff2bc-dc2d-4630-8d59-803e4d715877",
        "_uuid": "b2e6fb915eca6f92cec7faab294d410afcfccb85"
      },
      "cell_type": "markdown",
      "source": "So, just 18 of the songs (it might be less, since we didn't check for duplicate song id's) have genres that don't appear in the test set; perhaps the artists appear in the train set?"
    },
    {
      "metadata": {
        "_cell_guid": "5a31b820-942a-4b8b-8a78-2afd562f5e48",
        "_uuid": "9e33e18e459d1ce3dcfc93a4c974d130d2afdfaf",
        "trusted": false,
        "collapsed": true
      },
      "cell_type": "code",
      "source": "for stt_artist in set(song_genres_artist):\n    print(stt_artist, song_data[song_data['artist_name'] == stt_artist].shape[0])\nprint(song_genres_artist)",
      "execution_count": null,
      "outputs": []
    },
    {
      "metadata": {
        "_cell_guid": "6d4402a9-b1e5-4a5d-9163-acffe9223586",
        "_uuid": "55bb625db5940d438e7241d75553bd49084de2b5"
      },
      "cell_type": "markdown",
      "source": "So Paul Simon and Lea Salonga have songs in the train set, we can use genre data from there (replacing these 'unknown' genres); we don't have any data for just 7 songs. Perhaps we can do something based on their language? Or length? But this probably won't have any noticeable effect on the results."
    },
    {
      "metadata": {
        "_cell_guid": "31d5247a-f1a2-44d6-8781-510329e95656",
        "_uuid": "9cfe8925fba82bcdf0e568fbf4e647ec31cfa6dd"
      },
      "cell_type": "markdown",
      "source": "**Conclusion**\n\nSumming this all up, some features that might be useful:\n1. Number of genres a song has\n2. Number of composers and lyricists a song has\n3. Number of plays a song has\n4. Number of tracks and plays the song's artist has\n5. The songs language\n6. The number of languages an artist sings in\n7. The song's length\n8. The genres a song has (these can be one-hot encoded, something has to be done for the genres that are in the test set but do not appear in the train set\n\nFurther exploration/feature ideas that I haven't tested, but that could be useful:\n1. Split \"Various Artists\" into separate artists, based on language and/or genre of the tracks?\n2. Song length compared to the average song length of songs by the artist?\n3. Number of artists the songs composer and lyricist have worked with (a composer who writes 'hits' probably works with a lot of artists; but there seems to be some rubbish data in those fields, so maybe this feature is not that feasible after all for this data set)\n4. Genre pairs (if a song has genres 1,2,3, it has genre pairs (1,2), (2,3), (1,3) - perhaps these are informative too)\n5. Check whether the song is in an artists 'main' language (the most common language of the artists songs)\n6. Check whether the song is an artists 'main' genre (and also perhaps check if it's of a genre the artist doesn't usually perform in)"
    },
    {
      "metadata": {
        "collapsed": true,
        "_cell_guid": "bf151e93-02ab-4f5e-a231-c317e7bb8041",
        "_uuid": "857bbd6bd204f037a4deddab05aeca5406251a8d",
        "trusted": false
      },
      "cell_type": "code",
      "source": "",
      "execution_count": null,
      "outputs": []
    }
  ],
  "metadata": {
    "language_info": {
      "name": "python",
      "version": "3.6.4",
      "mimetype": "text/x-python",
      "codemirror_mode": {
        "name": "ipython",
        "version": 3
      },
      "pygments_lexer": "ipython3",
      "nbconvert_exporter": "python",
      "file_extension": ".py"
    },
    "kernelspec": {
      "display_name": "Python 3",
      "language": "python",
      "name": "python3"
    }
  },
  "nbformat": 4,
  "nbformat_minor": 1
}